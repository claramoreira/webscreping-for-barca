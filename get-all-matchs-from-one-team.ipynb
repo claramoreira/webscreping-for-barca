{
 "cells": [
  {
   "cell_type": "code",
   "execution_count": 1,
   "id": "95caebef",
   "metadata": {},
   "outputs": [],
   "source": [
    "import time\n",
    "from selenium import webdriver\n",
    "from pprint import pprint\n",
    "from bs4 import BeautifulSoup\n",
    "import re\n",
    "import pandas as pd\n",
    "import time"
   ]
  },
  {
   "cell_type": "code",
   "execution_count": 2,
   "id": "f8670024",
   "metadata": {},
   "outputs": [],
   "source": [
    "from OnefootballScrap import FinishedMatch"
   ]
  },
  {
   "cell_type": "code",
   "execution_count": 3,
   "id": "ebb80b85",
   "metadata": {
    "scrolled": true
   },
   "outputs": [],
   "source": [
    "# FinishedMatch.get_all_match_information('https://onefootball.com/pt-br/match/2269971')"
   ]
  },
  {
   "cell_type": "code",
   "execution_count": 4,
   "id": "dea76f8b",
   "metadata": {},
   "outputs": [
    {
     "name": "stderr",
     "output_type": "stream",
     "text": [
      "C:\\Users\\user\\AppData\\Local\\Temp\\ipykernel_2012\\2741425180.py:1: DeprecationWarning: executable_path has been deprecated, please pass in a Service object\n",
      "  driver = webdriver.Chrome('chromedriver.exe')  # Optional argument, if not specified will search path.\n"
     ]
    }
   ],
   "source": [
    "driver = webdriver.Chrome('chromedriver.exe')  # Optional argument, if not specified will search path.\n",
    "driver.get('https://onefootball.com/pt-br/');"
   ]
  },
  {
   "cell_type": "code",
   "execution_count": 5,
   "id": "0db66cf8",
   "metadata": {},
   "outputs": [
    {
     "name": "stderr",
     "output_type": "stream",
     "text": [
      "C:\\Users\\user\\AppData\\Local\\Temp\\ipykernel_2012\\2116578075.py:2: DeprecationWarning: find_elements_by_xpath is deprecated. Please use find_elements(by=By.XPATH, value=xpath) instead\n",
      "  cookies = driver.find_elements_by_xpath(\"//button[contains(@aria-label, 'Agree to our data processing and close')]\")\n"
     ]
    }
   ],
   "source": [
    "# Aceitar cookies:\n",
    "cookies = driver.find_elements_by_xpath(\"//button[contains(@aria-label, 'Agree to our data processing and close')]\")\n",
    "if len(cookies):\n",
    "    cookies[0].click()\n",
    "else:\n",
    "    pprint('No cookies message displayed!')"
   ]
  },
  {
   "cell_type": "code",
   "execution_count": 6,
   "id": "7392351e",
   "metadata": {},
   "outputs": [
    {
     "name": "stderr",
     "output_type": "stream",
     "text": [
      "C:\\Users\\user\\AppData\\Local\\Temp\\ipykernel_2012\\3828479163.py:1: DeprecationWarning: find_element_by_class_name is deprecated. Please use find_element(by=By.CLASS_NAME, value=name) instead\n",
      "  search_box = driver.find_element_by_class_name('popup-search__input')\n"
     ]
    }
   ],
   "source": [
    "search_box = driver.find_element_by_class_name('popup-search__input')"
   ]
  },
  {
   "cell_type": "code",
   "execution_count": 7,
   "id": "0bc85fb7",
   "metadata": {},
   "outputs": [
    {
     "data": {
      "text/plain": [
       "<selenium.webdriver.remote.webelement.WebElement (session=\"768dfec8c609d5f8afcb5b02ec6ddf4c\", element=\"29d9e5b6-4704-45cb-8d1c-8d3a16aebd6c\")>"
      ]
     },
     "execution_count": 7,
     "metadata": {},
     "output_type": "execute_result"
    }
   ],
   "source": [
    "search_box"
   ]
  },
  {
   "cell_type": "code",
   "execution_count": 8,
   "id": "a7df1da6",
   "metadata": {},
   "outputs": [],
   "source": [
    "search_box.send_keys('Barcelona F')"
   ]
  },
  {
   "cell_type": "code",
   "execution_count": 9,
   "id": "a0f3437e",
   "metadata": {},
   "outputs": [],
   "source": [
    "time.sleep(5)"
   ]
  },
  {
   "cell_type": "code",
   "execution_count": 10,
   "id": "90c692d1",
   "metadata": {},
   "outputs": [
    {
     "name": "stderr",
     "output_type": "stream",
     "text": [
      "C:\\Users\\user\\AppData\\Local\\Temp\\ipykernel_2012\\442695605.py:1: DeprecationWarning: find_elements_by_xpath is deprecated. Please use find_elements(by=By.XPATH, value=xpath) instead\n",
      "  team_selector = driver.find_elements_by_xpath(\"//li[contains(@class, 'search-result-list__item')]\")\n"
     ]
    }
   ],
   "source": [
    "team_selector = driver.find_elements_by_xpath(\"//li[contains(@class, 'search-result-list__item')]\")"
   ]
  },
  {
   "cell_type": "code",
   "execution_count": 11,
   "id": "b7d7a701",
   "metadata": {},
   "outputs": [
    {
     "data": {
      "text/plain": [
       "[<selenium.webdriver.remote.webelement.WebElement (session=\"768dfec8c609d5f8afcb5b02ec6ddf4c\", element=\"ade6d99c-e906-4f6b-aeec-e845a348f9cc\")>,\n",
       " <selenium.webdriver.remote.webelement.WebElement (session=\"768dfec8c609d5f8afcb5b02ec6ddf4c\", element=\"d0fab52c-d446-4611-a20f-183ef2d739ef\")>,\n",
       " <selenium.webdriver.remote.webelement.WebElement (session=\"768dfec8c609d5f8afcb5b02ec6ddf4c\", element=\"04b1a8bf-c3eb-4e83-90e8-0771ed5d0635\")>,\n",
       " <selenium.webdriver.remote.webelement.WebElement (session=\"768dfec8c609d5f8afcb5b02ec6ddf4c\", element=\"611e7159-6706-4c8c-9795-41e81fec4d3c\")>,\n",
       " <selenium.webdriver.remote.webelement.WebElement (session=\"768dfec8c609d5f8afcb5b02ec6ddf4c\", element=\"d0a9064a-ae38-41c3-b848-2cb7f1ea37cf\")>]"
      ]
     },
     "execution_count": 11,
     "metadata": {},
     "output_type": "execute_result"
    }
   ],
   "source": [
    "team_selector"
   ]
  },
  {
   "cell_type": "code",
   "execution_count": 12,
   "id": "2eef0118",
   "metadata": {},
   "outputs": [
    {
     "data": {
      "text/plain": [
       "'Barcelona Feminino'"
      ]
     },
     "execution_count": 12,
     "metadata": {},
     "output_type": "execute_result"
    }
   ],
   "source": [
    "team_selector[0].text"
   ]
  },
  {
   "cell_type": "code",
   "execution_count": 13,
   "id": "e93bc1ed",
   "metadata": {},
   "outputs": [],
   "source": [
    "team_selector[0].click()"
   ]
  },
  {
   "cell_type": "code",
   "execution_count": null,
   "id": "4d3bd6b4",
   "metadata": {},
   "outputs": [],
   "source": []
  },
  {
   "cell_type": "code",
   "execution_count": 14,
   "id": "e92a32da",
   "metadata": {},
   "outputs": [],
   "source": [
    "current_url = driver.current_url"
   ]
  },
  {
   "cell_type": "code",
   "execution_count": 15,
   "id": "b4cf7fba",
   "metadata": {},
   "outputs": [],
   "source": [
    "driver.get(current_url + '/resultados');"
   ]
  },
  {
   "cell_type": "code",
   "execution_count": 16,
   "id": "ed6406dc",
   "metadata": {},
   "outputs": [
    {
     "name": "stderr",
     "output_type": "stream",
     "text": [
      "C:\\Users\\user\\AppData\\Local\\Temp\\ipykernel_2012\\1377988602.py:1: DeprecationWarning: find_elements_by_xpath is deprecated. Please use find_elements(by=By.XPATH, value=xpath) instead\n",
      "  mostrar_todos = driver.find_elements_by_xpath(\"//span[contains(text(), 'Mostrar todos os resultados')]\")\n"
     ]
    }
   ],
   "source": [
    "mostrar_todos = driver.find_elements_by_xpath(\"//span[contains(text(), 'Mostrar todos os resultados')]\")"
   ]
  },
  {
   "cell_type": "code",
   "execution_count": 17,
   "id": "8a9762a4",
   "metadata": {},
   "outputs": [
    {
     "data": {
      "text/plain": [
       "[<selenium.webdriver.remote.webelement.WebElement (session=\"768dfec8c609d5f8afcb5b02ec6ddf4c\", element=\"0a1a82b5-b0ad-4132-a7e2-334efdd00338\")>]"
      ]
     },
     "execution_count": 17,
     "metadata": {},
     "output_type": "execute_result"
    }
   ],
   "source": [
    "mostrar_todos"
   ]
  },
  {
   "cell_type": "code",
   "execution_count": 18,
   "id": "ba277c32",
   "metadata": {},
   "outputs": [],
   "source": [
    "mostrar_todos[0].click()"
   ]
  },
  {
   "cell_type": "code",
   "execution_count": 19,
   "id": "8601a8b5",
   "metadata": {},
   "outputs": [
    {
     "name": "stderr",
     "output_type": "stream",
     "text": [
      "C:\\Users\\user\\AppData\\Local\\Temp\\ipykernel_2012\\4170912725.py:1: DeprecationWarning: find_elements_by_xpath is deprecated. Please use find_elements(by=By.XPATH, value=xpath) instead\n",
      "  all_matches = driver.find_elements_by_xpath(\"//li[contains(@class, 'simple-match-cards-list__match-card')]\")\n"
     ]
    }
   ],
   "source": [
    "all_matches = driver.find_elements_by_xpath(\"//li[contains(@class, 'simple-match-cards-list__match-card')]\")"
   ]
  },
  {
   "cell_type": "code",
   "execution_count": 20,
   "id": "c4684ed4",
   "metadata": {},
   "outputs": [
    {
     "data": {
      "text/plain": [
       "36"
      ]
     },
     "execution_count": 20,
     "metadata": {},
     "output_type": "execute_result"
    }
   ],
   "source": [
    "len(all_matches)"
   ]
  },
  {
   "cell_type": "code",
   "execution_count": 21,
   "id": "c0073a75",
   "metadata": {},
   "outputs": [
    {
     "name": "stderr",
     "output_type": "stream",
     "text": [
      "C:\\Users\\user\\AppData\\Local\\Programs\\Python\\Python310\\lib\\site-packages\\selenium\\webdriver\\remote\\webelement.py:359: UserWarning: find_elements_by_tag_name is deprecated. Please use find_elements(by=By.TAG_NAME, value=name) instead\n",
      "  warnings.warn(\"find_elements_by_tag_name is deprecated. Please use find_elements(by=By.TAG_NAME, value=name) instead\")\n"
     ]
    },
    {
     "name": "stdout",
     "output_type": "stream",
     "text": [
      "'No cookies message displayed!'\n"
     ]
    },
    {
     "name": "stderr",
     "output_type": "stream",
     "text": [
      "C:\\Users\\user\\AppData\\Local\\Programs\\Python\\Python310\\lib\\site-packages\\selenium\\webdriver\\remote\\webelement.py:341: UserWarning: find_element_by_tag_name is deprecated. Please use find_element(by=By.TAG_NAME, value=name) instead\n",
      "  warnings.warn(\"find_element_by_tag_name is deprecated. Please use find_element(by=By.TAG_NAME, value=name) instead\")\n"
     ]
    },
    {
     "name": "stdout",
     "output_type": "stream",
     "text": [
      "'No cookies message displayed!'\n",
      "'No cookies message displayed!'\n",
      "'No cookies message displayed!'\n",
      "'No cookies message displayed!'\n",
      "'No cookies message displayed!'\n",
      "'No cookies message displayed!'\n",
      "'No cookies message displayed!'\n",
      "'No cookies message displayed!'\n",
      "'No cookies message displayed!'\n",
      "'No cookies message displayed!'\n",
      "'No cookies message displayed!'\n",
      "'No cookies message displayed!'\n",
      "'No cookies message displayed!'\n",
      "'No cookies message displayed!'\n",
      "'No cookies message displayed!'\n",
      "'No cookies message displayed!'\n",
      "'No cookies message displayed!'\n",
      "'No cookies message displayed!'\n",
      "'No cookies message displayed!'\n",
      "'No cookies message displayed!'\n",
      "'No cookies message displayed!'\n",
      "'No cookies message displayed!'\n",
      "'No cookies message displayed!'\n",
      "'No cookies message displayed!'\n",
      "'No cookies message displayed!'\n",
      "'No cookies message displayed!'\n",
      "'No cookies message displayed!'\n",
      "'No cookies message displayed!'\n",
      "'No cookies message displayed!'\n",
      "'No cookies message displayed!'\n",
      "'No cookies message displayed!'\n",
      "'No cookies message displayed!'\n",
      "'No cookies message displayed!'\n",
      "'No cookies message displayed!'\n",
      "'No cookies message displayed!'\n"
     ]
    }
   ],
   "source": [
    "all_teams, all_scores, all_home_team, all_away_team, all_events, all_stats, all_infos = ([] for i in range(7))\n",
    "\n",
    "for tag in all_matches:\n",
    "    link = tag.find_elements_by_tag_name(\"a\")[0].get_attribute('href')\n",
    "    teams, score, home_team, away_team, events, stats, infos = FinishedMatch.get_all_match_information(link)\n",
    "    all_teams.append(teams)\n",
    "    all_scores.append(score)\n",
    "    all_home_team.append(home_team)\n",
    "    all_away_team.append(away_team)\n",
    "    all_events.append(events)\n",
    "    all_stats.append(stats)\n",
    "    all_infos.append(infos)"
   ]
  },
  {
   "cell_type": "code",
   "execution_count": 22,
   "id": "d5e83306",
   "metadata": {},
   "outputs": [
    {
     "name": "stdout",
     "output_type": "stream",
     "text": [
      "36 36 36 36 36 36 36\n"
     ]
    }
   ],
   "source": [
    "print(len(all_teams), len(all_scores), len(all_home_team), len(all_away_team), len(all_events), len(all_stats), len(all_infos))"
   ]
  },
  {
   "cell_type": "code",
   "execution_count": 50,
   "id": "c657a628",
   "metadata": {},
   "outputs": [
    {
     "data": {
      "text/plain": [
       "[{'home_team_score': '6', 'away_team_score': '1'},\n",
       " {'home_team_score': '5', 'away_team_score': '2'},\n",
       " {'home_team_score': '1', 'away_team_score': '2'},\n",
       " {'home_team_score': '1', 'away_team_score': '3'},\n",
       " {'home_team_score': '0', 'away_team_score': '3'},\n",
       " {'home_team_score': '5', 'away_team_score': '0'},\n",
       " {'home_team_score': '0', 'away_team_score': '6'},\n",
       " {'home_team_score': '1', 'away_team_score': '3'},\n",
       " {'home_team_score': '0', 'away_team_score': '3'},\n",
       " {'home_team_score': '1', 'away_team_score': '9'},\n",
       " {'home_team_score': '7', 'away_team_score': '0'},\n",
       " {'home_team_score': '1', 'away_team_score': '4'},\n",
       " {'home_team_score': '4', 'away_team_score': '0'},\n",
       " {'home_team_score': '5', 'away_team_score': '0'},\n",
       " {'home_team_score': '0', 'away_team_score': '7'},\n",
       " {'home_team_score': '7', 'away_team_score': '0'},\n",
       " {'home_team_score': '4', 'away_team_score': '0'},\n",
       " {'home_team_score': '5', 'away_team_score': '0'},\n",
       " {'home_team_score': '1', 'away_team_score': '3'},\n",
       " {'home_team_score': '0', 'away_team_score': '4'},\n",
       " {'home_team_score': '4', 'away_team_score': '0'},\n",
       " {'home_team_score': '1', 'away_team_score': '10'},\n",
       " {'home_team_score': '0', 'away_team_score': '5'},\n",
       " {'home_team_score': '4', 'away_team_score': '0'},\n",
       " {'home_team_score': '4', 'away_team_score': '0'},\n",
       " {'home_team_score': '0', 'away_team_score': '3'},\n",
       " {'home_team_score': '8', 'away_team_score': '1'},\n",
       " {'home_team_score': '0', 'away_team_score': '5'},\n",
       " {'home_team_score': '0', 'away_team_score': '2'},\n",
       " {'home_team_score': '0', 'away_team_score': '3'},\n",
       " {'home_team_score': '4', 'away_team_score': '1'},\n",
       " {'home_team_score': '9', 'away_team_score': '1'},\n",
       " {'home_team_score': '0', 'away_team_score': '8'},\n",
       " {'home_team_score': '8', 'away_team_score': '0'},\n",
       " {'home_team_score': '0', 'away_team_score': '5'},\n",
       " {'home_team_score': '5', 'away_team_score': '0'}]"
      ]
     },
     "execution_count": 50,
     "metadata": {},
     "output_type": "execute_result"
    }
   ],
   "source": [
    "all_scores"
   ]
  },
  {
   "cell_type": "code",
   "execution_count": 39,
   "id": "369d44a7",
   "metadata": {},
   "outputs": [
    {
     "data": {
      "text/plain": [
       "'02/04/22'"
      ]
     },
     "execution_count": 39,
     "metadata": {},
     "output_type": "execute_result"
    }
   ],
   "source": [
    "all_infos[0][1]['info_content']"
   ]
  },
  {
   "cell_type": "code",
   "execution_count": 51,
   "id": "aca45511",
   "metadata": {},
   "outputs": [],
   "source": [
    "df = pd.DataFrame({\n",
    "                   'match_date': [l[1]['info_content'] for l in all_infos],\n",
    "                   'home_team': [row['home_team'] for row in all_teams],\n",
    "                   'away_team': [row['away_team'] for row in all_teams],\n",
    "                   'home_team_score': [row['home_team_score'] for row in all_scores],\n",
    "                   'away_team_score': [row['away_team_score'] for row in all_scores],\n",
    "                   'home_team_players': all_home_team,\n",
    "                   'away_team_players': all_away_team,\n",
    "                   'events': all_events,\n",
    "                   'stats': all_stats,\n",
    "                   'infos': all_infos\n",
    "                  })"
   ]
  },
  {
   "cell_type": "code",
   "execution_count": 57,
   "id": "1af4bd20",
   "metadata": {},
   "outputs": [],
   "source": [
    "df.to_csv('datasets/barca_20220704.csv')"
   ]
  }
 ],
 "metadata": {
  "kernelspec": {
   "display_name": "Python 3 (ipykernel)",
   "language": "python",
   "name": "python3"
  },
  "language_info": {
   "codemirror_mode": {
    "name": "ipython",
    "version": 3
   },
   "file_extension": ".py",
   "mimetype": "text/x-python",
   "name": "python",
   "nbconvert_exporter": "python",
   "pygments_lexer": "ipython3",
   "version": "3.10.2"
  }
 },
 "nbformat": 4,
 "nbformat_minor": 5
}
