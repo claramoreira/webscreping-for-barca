{
 "cells": [
  {
   "cell_type": "code",
   "execution_count": 39,
   "id": "42acd010",
   "metadata": {},
   "outputs": [
    {
     "name": "stderr",
     "output_type": "stream",
     "text": [
      "C:\\Users\\user\\AppData\\Local\\Temp\\ipykernel_15652\\1043150601.py:9: DeprecationWarning: executable_path has been deprecated, please pass in a Service object\n",
      "  driver = webdriver.Chrome('chromedriver.exe')  # Optional argument, if not specified will search path.\n"
     ]
    }
   ],
   "source": [
    "import time\n",
    "from selenium import webdriver\n",
    "from pprint import pprint\n",
    "from bs4 import BeautifulSoup\n",
    "import re\n",
    "\n",
    "# Barça vs Real: https://onefootball.com/pt-br/match/2269972\n",
    "\n",
    "driver = webdriver.Chrome('chromedriver.exe')  # Optional argument, if not specified will search path.\n",
    "driver.get('https://onefootball.com/pt-br/match/2269971');"
   ]
  },
  {
   "cell_type": "code",
   "execution_count": 40,
   "id": "1c485d81",
   "metadata": {},
   "outputs": [],
   "source": [
    "def get_stats(list_of_elements):\n",
    "    stats_list = []\n",
    "    for stat in list_of_elements:\n",
    "        stats_text = stat.text.split('\\n')\n",
    "        home_team_stat = stats_text[0]\n",
    "        stat_name = stats_text[1]\n",
    "        away_team_stat = stats_text[2]\n",
    "        stats_detail = {\n",
    "            'home_team_stat': home_team_stat,\n",
    "            'away_team_stat': away_team_stat,\n",
    "            'stat_name': stat_name\n",
    "        }\n",
    "        stats_list.append(stats_detail)\n",
    "    return stats_list"
   ]
  },
  {
   "cell_type": "markdown",
   "id": "49f09f53",
   "metadata": {},
   "source": [
    "## Aceitar os cookies"
   ]
  },
  {
   "cell_type": "code",
   "execution_count": 41,
   "id": "a736fa3c",
   "metadata": {},
   "outputs": [
    {
     "name": "stderr",
     "output_type": "stream",
     "text": [
      "C:\\Users\\user\\AppData\\Local\\Temp\\ipykernel_15652\\4220912207.py:1: DeprecationWarning: find_elements_by_xpath is deprecated. Please use find_elements(by=By.XPATH, value=xpath) instead\n",
      "  search_box = driver.find_elements_by_xpath(\"//button[contains(@aria-label, 'Agree to our data processing and close')]\")\n"
     ]
    }
   ],
   "source": [
    "search_box = driver.find_elements_by_xpath(\"//button[contains(@aria-label, 'Agree to our data processing and close')]\")\n",
    "search_box[0].click()"
   ]
  },
  {
   "cell_type": "markdown",
   "id": "cedd0c42",
   "metadata": {},
   "source": [
    "## Quem está jogando"
   ]
  },
  {
   "cell_type": "code",
   "execution_count": 5,
   "id": "b1ed3f28",
   "metadata": {
    "scrolled": false
   },
   "outputs": [
    {
     "name": "stderr",
     "output_type": "stream",
     "text": [
      "C:\\Users\\user\\AppData\\Local\\Temp\\ipykernel_15652\\4027852203.py:1: DeprecationWarning: find_elements_by_xpath is deprecated. Please use find_elements(by=By.XPATH, value=xpath) instead\n",
      "  search = driver.find_elements_by_xpath(\"//of-match-score-team\")\n"
     ]
    }
   ],
   "source": [
    "search = driver.find_elements_by_xpath(\"//of-match-score-team\")"
   ]
  },
  {
   "cell_type": "code",
   "execution_count": 6,
   "id": "301045a3",
   "metadata": {},
   "outputs": [
    {
     "data": {
      "text/plain": [
       "'Wolfsburgo Feminino'"
      ]
     },
     "execution_count": 6,
     "metadata": {},
     "output_type": "execute_result"
    }
   ],
   "source": [
    "search[0].text"
   ]
  },
  {
   "cell_type": "code",
   "execution_count": 7,
   "id": "e20fb265",
   "metadata": {},
   "outputs": [],
   "source": [
    "def get_teams(list_of_elements):\n",
    "    teams = {\n",
    "        'home_team': list_of_elements[0].text,\n",
    "        'away_team': list_of_elements[1].text,\n",
    "    }\n",
    "    return teams"
   ]
  },
  {
   "cell_type": "code",
   "execution_count": 8,
   "id": "ddb18904",
   "metadata": {},
   "outputs": [],
   "source": [
    "teams = get_teams(search)"
   ]
  },
  {
   "cell_type": "code",
   "execution_count": 9,
   "id": "e1500c46",
   "metadata": {},
   "outputs": [
    {
     "name": "stdout",
     "output_type": "stream",
     "text": [
      "{'away_team': 'Arsenal Feminino', 'home_team': 'Wolfsburgo Feminino'}\n"
     ]
    }
   ],
   "source": [
    "pprint(teams)"
   ]
  },
  {
   "cell_type": "markdown",
   "id": "3f104612",
   "metadata": {},
   "source": [
    "## Placar"
   ]
  },
  {
   "cell_type": "code",
   "execution_count": 10,
   "id": "b5d5cc62",
   "metadata": {},
   "outputs": [
    {
     "name": "stderr",
     "output_type": "stream",
     "text": [
      "C:\\Users\\user\\AppData\\Local\\Temp\\ipykernel_15652\\335478207.py:1: DeprecationWarning: find_elements_by_xpath is deprecated. Please use find_elements(by=By.XPATH, value=xpath) instead\n",
      "  search = driver.find_elements_by_xpath(\"//p[contains(@class, 'match-score-scores')]\")\n"
     ]
    }
   ],
   "source": [
    "search = driver.find_elements_by_xpath(\"//p[contains(@class, 'match-score-scores')]\")"
   ]
  },
  {
   "cell_type": "code",
   "execution_count": 11,
   "id": "34516194",
   "metadata": {},
   "outputs": [
    {
     "data": {
      "text/plain": [
       "'2\\n:\\n0'"
      ]
     },
     "execution_count": 11,
     "metadata": {},
     "output_type": "execute_result"
    }
   ],
   "source": [
    "search[0].text"
   ]
  },
  {
   "cell_type": "code",
   "execution_count": 12,
   "id": "b8cee83e",
   "metadata": {},
   "outputs": [],
   "source": [
    "def get_score(list_of_elements):\n",
    "    score_element = list_of_elements[0].text.split('\\n')\n",
    "    scores = {\n",
    "        'home_team_score': score_element[0],\n",
    "        'away_team_score': score_element[2]\n",
    "    }\n",
    "    return scores"
   ]
  },
  {
   "cell_type": "code",
   "execution_count": 13,
   "id": "fdd9426c",
   "metadata": {},
   "outputs": [],
   "source": [
    "score = get_score(search)"
   ]
  },
  {
   "cell_type": "code",
   "execution_count": 14,
   "id": "51599a97",
   "metadata": {},
   "outputs": [
    {
     "name": "stdout",
     "output_type": "stream",
     "text": [
      "{'away_team_score': '0', 'home_team_score': '2'}\n"
     ]
    }
   ],
   "source": [
    "pprint(score)"
   ]
  },
  {
   "cell_type": "markdown",
   "id": "3641b45e",
   "metadata": {},
   "source": [
    "## Escalações"
   ]
  },
  {
   "cell_type": "code",
   "execution_count": 15,
   "id": "61c0f076",
   "metadata": {},
   "outputs": [],
   "source": [
    "html = driver.page_source\n",
    "soup = BeautifulSoup(html, \"lxml\")"
   ]
  },
  {
   "cell_type": "code",
   "execution_count": 16,
   "id": "4db8ac7d",
   "metadata": {
    "scrolled": true
   },
   "outputs": [
    {
     "name": "stdout",
     "output_type": "stream",
     "text": [
      " 14. Roord \n",
      " 28. Waßmuth \n",
      " 32. Jónsdóttir \n",
      " 8. Lattwein \n",
      " 5. Oberdorf \n",
      " 10. Huth \n",
      " 13. Rauch \n",
      " 6. Janssen \n",
      " 4. Hendrich \n",
      " 2. Wilms \n",
      " 1. Schult \n"
     ]
    }
   ],
   "source": [
    "for tag in soup.findAll('span', attrs={'class': re.compile('match-lineup-v2__player-name')}):\n",
    "    print(tag.text)"
   ]
  },
  {
   "cell_type": "code",
   "execution_count": 17,
   "id": "298de972",
   "metadata": {
    "scrolled": true
   },
   "outputs": [
    {
     "name": "stderr",
     "output_type": "stream",
     "text": [
      "C:\\Users\\user\\AppData\\Local\\Temp\\ipykernel_15652\\1664311966.py:1: DeprecationWarning: find_elements_by_xpath is deprecated. Please use find_elements(by=By.XPATH, value=xpath) instead\n",
      "  search_box = driver.find_elements_by_xpath(\"//button[contains(@title, '\" + teams['away_team'] + \"')]\")\n"
     ]
    }
   ],
   "source": [
    "search_box = driver.find_elements_by_xpath(\"//button[contains(@title, '\" + teams['away_team'] + \"')]\")"
   ]
  },
  {
   "cell_type": "code",
   "execution_count": 18,
   "id": "63f7b1c1",
   "metadata": {},
   "outputs": [
    {
     "data": {
      "text/plain": [
       "[<selenium.webdriver.remote.webelement.WebElement (session=\"be51f7a555746dca4cca1d5bbde571b2\", element=\"eff70ad5-29a6-46a4-a032-976f1befe2d0\")>]"
      ]
     },
     "execution_count": 18,
     "metadata": {},
     "output_type": "execute_result"
    }
   ],
   "source": [
    "search_box"
   ]
  },
  {
   "cell_type": "code",
   "execution_count": 19,
   "id": "70f13d45",
   "metadata": {
    "scrolled": true
   },
   "outputs": [],
   "source": [
    "search_box[0].click()"
   ]
  },
  {
   "cell_type": "code",
   "execution_count": 20,
   "id": "719b99bf",
   "metadata": {},
   "outputs": [],
   "source": [
    "html = driver.page_source"
   ]
  },
  {
   "cell_type": "code",
   "execution_count": 21,
   "id": "5a6f439e",
   "metadata": {},
   "outputs": [],
   "source": [
    "soup = BeautifulSoup(html, \"lxml\")"
   ]
  },
  {
   "cell_type": "code",
   "execution_count": 22,
   "id": "6983d618",
   "metadata": {},
   "outputs": [
    {
     "name": "stdout",
     "output_type": "stream",
     "text": [
      " 11. Miedema \n",
      " 25. Blackstenius \n",
      " 77. Heath \n",
      " 10. Little \n",
      " 12. Maanum \n",
      " 15. McCabe \n",
      " 7. Catley \n",
      " 3. Wubben Moy \n",
      " 6. Williamson \n",
      " 16. Maritz \n",
      " 1. Zinsberger \n"
     ]
    }
   ],
   "source": [
    "for tag in soup.findAll('span', attrs={'class': re.compile('match-lineup-v2__player-name')}):\n",
    "    print(tag.text)"
   ]
  },
  {
   "cell_type": "markdown",
   "id": "09b4ce44",
   "metadata": {},
   "source": [
    "## Eventos:\n",
    "\n",
    "### Gol:\n",
    "player_1 = quem fez o gol \\\n",
    "player_2 = assistência\n",
    "\n",
    "### Cartão amarelo:\n",
    "player_1 = quem recebeu o cartão amarelo \\\n",
    "\n",
    "### Penalti:\n",
    "player_1 = quem fez o gol de penalti \\\n",
    "player_2 = \"Penalti\"\n",
    "\n",
    "### Substituição:\n",
    "player_1 = quem entra \\\n",
    "player_2 = quem sai"
   ]
  },
  {
   "cell_type": "code",
   "execution_count": 23,
   "id": "244bbe7b",
   "metadata": {},
   "outputs": [],
   "source": [
    "def get_events(list_of_elements):\n",
    "    events_list = []\n",
    "    for event in list_of_elements:\n",
    "        event_type = event.find_element_by_tag_name('img').get_attribute('alt')\n",
    "        event_text = event.text.split('\\n')\n",
    "        event_time = event_text[0]\n",
    "        player_1 = event_text[1]\n",
    "        if len(event_text) >= 3:\n",
    "            player_2 = event_text[2]\n",
    "        else:\n",
    "            player_2 = ''\n",
    "        event_detail = {\n",
    "            'time': int(re.findall(r'\\d+', event_time)[0]),\n",
    "            'player_1': player_1,\n",
    "            'player_2': player_2,\n",
    "            'event': event_type\n",
    "        }\n",
    "        events_list.append(event_detail)\n",
    "    return events_list"
   ]
  },
  {
   "cell_type": "code",
   "execution_count": 24,
   "id": "12d2ea32",
   "metadata": {},
   "outputs": [
    {
     "name": "stderr",
     "output_type": "stream",
     "text": [
      "C:\\Users\\user\\AppData\\Local\\Temp\\ipykernel_15652\\3361420383.py:2: DeprecationWarning: find_elements_by_xpath is deprecated. Please use find_elements(by=By.XPATH, value=xpath) instead\n",
      "  search_box = driver.find_elements_by_xpath(\"//button[contains(@class, 'match-events__toggle-button')]\")\n"
     ]
    }
   ],
   "source": [
    "# Selecionar todos os eventos\n",
    "search_box = driver.find_elements_by_xpath(\"//button[contains(@class, 'match-events__toggle-button')]\")\n",
    "# search_box\n",
    "search_box[0].click()"
   ]
  },
  {
   "cell_type": "code",
   "execution_count": 25,
   "id": "dc133997",
   "metadata": {},
   "outputs": [
    {
     "name": "stderr",
     "output_type": "stream",
     "text": [
      "C:\\Users\\user\\AppData\\Local\\Temp\\ipykernel_15652\\1877595458.py:2: DeprecationWarning: find_elements_by_xpath is deprecated. Please use find_elements(by=By.XPATH, value=xpath) instead\n",
      "  search_box = driver.find_elements_by_xpath(\"//li[contains(@class, 'match-events__item')]\")\n"
     ]
    }
   ],
   "source": [
    "# Listar todos os eventos da partida\n",
    "search_box = driver.find_elements_by_xpath(\"//li[contains(@class, 'match-events__item')]\")"
   ]
  },
  {
   "cell_type": "code",
   "execution_count": 26,
   "id": "c859d933",
   "metadata": {},
   "outputs": [
    {
     "name": "stderr",
     "output_type": "stream",
     "text": [
      "C:\\Users\\user\\AppData\\Local\\Programs\\Python\\Python310\\lib\\site-packages\\selenium\\webdriver\\remote\\webelement.py:341: UserWarning: find_element_by_tag_name is deprecated. Please use find_element(by=By.TAG_NAME, value=name) instead\n",
      "  warnings.warn(\"find_element_by_tag_name is deprecated. Please use find_element(by=By.TAG_NAME, value=name) instead\")\n"
     ]
    }
   ],
   "source": [
    "events = get_events(search_box)"
   ]
  },
  {
   "cell_type": "code",
   "execution_count": 27,
   "id": "112e5344",
   "metadata": {
    "scrolled": true
   },
   "outputs": [
    {
     "name": "stdout",
     "output_type": "stream",
     "text": [
      "[{'event': 'Gol',\n",
      "  'player_1': 'Jill Roord',\n",
      "  'player_2': 'Sveindís Jónsdóttir',\n",
      "  'time': 9},\n",
      " {'event': 'Substituição',\n",
      "  'player_1': 'Alexandra Popp',\n",
      "  'player_2': 'Lena Lattwein',\n",
      "  'time': 48},\n",
      " {'event': 'Substituição',\n",
      "  'player_1': 'Caitlin Foord',\n",
      "  'player_2': 'Tobin Heath',\n",
      "  'time': 46},\n",
      " {'event': 'Substituição',\n",
      "  'player_1': 'Nikita Parris',\n",
      "  'player_2': 'Katie McCabe',\n",
      "  'time': 71},\n",
      " {'event': 'Substituição',\n",
      "  'player_1': 'Jordan Nobbs',\n",
      "  'player_2': 'Frida Maanum',\n",
      "  'time': 71},\n",
      " {'event': 'Gol contra',\n",
      "  'player_1': 'Leah Williamson',\n",
      "  'player_2': 'Gol contra',\n",
      "  'time': 72},\n",
      " {'event': 'Substituição',\n",
      "  'player_1': 'Ewa Pajor',\n",
      "  'player_2': 'Sveindís Jónsdóttir',\n",
      "  'time': 79},\n",
      " {'event': 'Substituição',\n",
      "  'player_1': 'Laura Wienroither',\n",
      "  'player_2': 'Noelle Maritz',\n",
      "  'time': 79},\n",
      " {'event': 'Substituição',\n",
      "  'player_1': 'Rebecka Blomqvist',\n",
      "  'player_2': 'Lena Oberdorf',\n",
      "  'time': 86}]\n"
     ]
    }
   ],
   "source": [
    "pprint(events)"
   ]
  },
  {
   "cell_type": "markdown",
   "id": "17454677",
   "metadata": {},
   "source": [
    "## Estatísticas"
   ]
  },
  {
   "cell_type": "code",
   "execution_count": 28,
   "id": "45f67b39",
   "metadata": {},
   "outputs": [
    {
     "name": "stderr",
     "output_type": "stream",
     "text": [
      "C:\\Users\\user\\AppData\\Local\\Temp\\ipykernel_15652\\2243698784.py:1: DeprecationWarning: find_elements_by_xpath is deprecated. Please use find_elements(by=By.XPATH, value=xpath) instead\n",
      "  search = driver.find_elements_by_xpath(\"//li[contains(@class, 'match-stats__list-item')]\")\n"
     ]
    }
   ],
   "source": [
    "search = driver.find_elements_by_xpath(\"//li[contains(@class, 'match-stats__list-item')]\")"
   ]
  },
  {
   "cell_type": "code",
   "execution_count": 29,
   "id": "1f94d4ed",
   "metadata": {},
   "outputs": [],
   "source": [
    "stats = get_stats(search)"
   ]
  },
  {
   "cell_type": "code",
   "execution_count": 30,
   "id": "a02b07de",
   "metadata": {
    "scrolled": true
   },
   "outputs": [
    {
     "name": "stdout",
     "output_type": "stream",
     "text": [
      "[{'away_team_stat': '43%',\n",
      "  'home_team_stat': '57%',\n",
      "  'stat_name': 'POSSE DE BOLA'},\n",
      " {'away_team_stat': '8',\n",
      "  'home_team_stat': '17',\n",
      "  'stat_name': 'TOTAL DE CHUTES'},\n",
      " {'away_team_stat': '3', 'home_team_stat': '5', 'stat_name': 'CHUTES AO GOL'},\n",
      " {'away_team_stat': '45%',\n",
      "  'home_team_stat': '55%',\n",
      "  'stat_name': 'DISPUTAS GANHAS'}]\n"
     ]
    }
   ],
   "source": [
    "pprint(stats)"
   ]
  },
  {
   "cell_type": "markdown",
   "id": "f5a81636",
   "metadata": {},
   "source": [
    "## Informações da partida"
   ]
  },
  {
   "cell_type": "code",
   "execution_count": 31,
   "id": "e46a1c2d",
   "metadata": {},
   "outputs": [
    {
     "name": "stderr",
     "output_type": "stream",
     "text": [
      "C:\\Users\\user\\AppData\\Local\\Temp\\ipykernel_15652\\1566266407.py:1: DeprecationWarning: find_elements_by_xpath is deprecated. Please use find_elements(by=By.XPATH, value=xpath) instead\n",
      "  search = driver.find_elements_by_xpath(\"//li[contains(@class, 'match-info__entry')]\")\n"
     ]
    }
   ],
   "source": [
    "search = driver.find_elements_by_xpath(\"//li[contains(@class, 'match-info__entry')]\")"
   ]
  },
  {
   "cell_type": "code",
   "execution_count": 32,
   "id": "7630d91d",
   "metadata": {},
   "outputs": [],
   "source": [
    "def get_infos(list_of_elements):\n",
    "    infos_list = []\n",
    "    for info in list_of_elements:\n",
    "        info_text = info.text.split('\\n')\n",
    "        info_title = info_text[0]\n",
    "        info_content = info_text[1]\n",
    "        info_detail = {\n",
    "            'info_title': info_title,\n",
    "            'info_content': info_content,\n",
    "        }\n",
    "        infos_list.append(info_detail)\n",
    "    return infos_list"
   ]
  },
  {
   "cell_type": "code",
   "execution_count": 33,
   "id": "a92564e6",
   "metadata": {},
   "outputs": [],
   "source": [
    "infos = get_infos(search)"
   ]
  },
  {
   "cell_type": "code",
   "execution_count": 34,
   "id": "6d1a001c",
   "metadata": {},
   "outputs": [
    {
     "name": "stdout",
     "output_type": "stream",
     "text": [
      "[{'info_content': 'Liga dos Campeões Feminina da UEFA',\n",
      "  'info_title': 'Competição'},\n",
      " {'info_content': '31/03/22', 'info_title': 'Início'},\n",
      " {'info_content': 'VOLKSWAGEN ARENA', 'info_title': 'Estádio'}]\n"
     ]
    }
   ],
   "source": [
    "pprint(infos)"
   ]
  },
  {
   "cell_type": "code",
   "execution_count": 35,
   "id": "4790717b",
   "metadata": {},
   "outputs": [],
   "source": [
    "# driver.quit()"
   ]
  }
 ],
 "metadata": {
  "kernelspec": {
   "display_name": "Python 3 (ipykernel)",
   "language": "python",
   "name": "python3"
  },
  "language_info": {
   "codemirror_mode": {
    "name": "ipython",
    "version": 3
   },
   "file_extension": ".py",
   "mimetype": "text/x-python",
   "name": "python",
   "nbconvert_exporter": "python",
   "pygments_lexer": "ipython3",
   "version": "3.10.2"
  }
 },
 "nbformat": 4,
 "nbformat_minor": 5
}
